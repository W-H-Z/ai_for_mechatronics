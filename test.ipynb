{
 "cells": [
  {
   "cell_type": "code",
   "execution_count": 3,
   "metadata": {
    "collapsed": true
   },
   "outputs": [
    {
     "name": "stdout",
     "output_type": "stream",
     "text": [
      "The value of a is 3; b is 3\n"
     ]
    }
   ],
   "source": [
    "\"\"\"\n",
    "Part 1: Control flows for any programming languages\n",
    "\"\"\"\n",
    "\n",
    "# label\n",
    "a = b = 3\n",
    "print('The value of a is {}; b is {}'.format(a, b))\n"
   ]
  },
  {
   "cell_type": "code",
   "execution_count": 9,
   "metadata": {
    "collapsed": true
   },
   "outputs": [
    {
     "name": "stdout",
     "output_type": "stream",
     "text": [
      "Does d equal a? True\nDoes d equal a? 1.000\n"
     ]
    }
   ],
   "source": [
    "# sequence\n",
    "\n",
    "a, b = 3.0, 2.0\n",
    "c = a - b\n",
    "d = c + b\n",
    "\n",
    "print('Does d equal a? {}'.format(d == a))\n",
    "print('Does d equal a? {:.3f}'.format(d == a))\n"
   ]
  },
  {
   "cell_type": "code",
   "execution_count": 2,
   "metadata": {},
   "outputs": [
    {
     "name": "stdout",
     "output_type": "stream",
     "text": [
      "008\n"
     ]
    }
   ],
   "source": [
    "# subroutine\n",
    "\n",
    "\n",
    "def add_two_number(a, b):\n",
    "    return a + b\n",
    "\n",
    "\n",
    "x = 3; y = 5\n",
    "print('{:03d}'.format(add_two_number(x, y)))\n"
   ]
  },
  {
   "cell_type": "code",
   "execution_count": 16,
   "metadata": {},
   "outputs": [
    {
     "name": "stdout",
     "output_type": "stream",
     "text": [
      "The value of b is -1.56e-01\nThe value of b is -0.16\n"
     ]
    }
   ],
   "source": [
    "# Choices\n",
    "import numpy as np\n",
    "\n",
    "a = np.random.rand(1)\n",
    "if a < 0.5:\n",
    "    b = a - 0.5\n",
    "elif a < 0.8:\n",
    "    b = a - 0.8\n",
    "else:\n",
    "    b = a - 1.0\n",
    "    \n",
    "print('The value of b is {:.2e}'.format(b[0]))\n",
    "print('The value of b is {:.2g}'.format(b[0]))\n"
   ]
  },
  {
   "cell_type": "code",
   "execution_count": 30,
   "metadata": {
    "collapsed": true
   },
   "outputs": [
    {
     "name": "stdout",
     "output_type": "stream",
     "text": [
      "The value of a is 64\nThe value of a is 32\nThe value of a is 16\nThe value of a is 8\nThe value of a is 4\nThe value of a is 2\nThe loop breaks at the 6 iteration.\n"
     ]
    }
   ],
   "source": [
    "# loop 1\n",
    "import numpy as np\n",
    "\n",
    "a = np.random.randint(1, 100)\n",
    "for i in range(6):\n",
    "    print('The value of a is {}'.format(a))\n",
    "    if a % 2 == 0:  # % is modulus operation that calculates the remainder\n",
    "        a = a // 2  # // is integer division\n",
    "    else:\n",
    "        a += 3\n",
    "        \n",
    "    if a == 1:  # early exit from loops\n",
    "        print('The loop breaks at the {} iteration.'.format(i + 1))\n",
    "        break\n",
    "else:  # default step if no early exit happens\n",
    "    print('It seems the number of iteration is too small.')\n"
   ]
  },
  {
   "cell_type": "code",
   "execution_count": null,
   "metadata": {},
   "outputs": [
    {
     "name": "stdout",
     "output_type": "stream",
     "text": [
      "Can't divide a number by zero\nThe value of c is nan\n"
     ]
    }
   ],
   "source": [
    "# loop 2\n",
    "import numpy as np\n",
    "\n",
    "a = np.random.randint(1, 100)\n",
    "while a > 2:\n",
    "    print('The value of a is {}'.format(a))\n",
    "    if a % 2 == 0:  # % is modulus operation that calculates the remainder\n",
    "        a = a // 2  # // is integer division\n",
    "    else:\n",
    "        a += 3\n"
   ]
  },
  {
   "cell_type": "code",
   "execution_count": 41,
   "metadata": {
    "collapsed": true
   },
   "outputs": [
    {
     "name": "stdout",
     "output_type": "stream",
     "text": [
      "The value of c is 39.0\nDid you dodge the bullet?\n"
     ]
    },
    {
     "ename": "AssertionError",
     "evalue": "Aha, I'll give you an error anyway.",
     "traceback": [
      "\u001b[1;31m---------------------------------------------------------------------------\u001b[0m",
      "\u001b[1;31mAssertionError\u001b[0m                            Traceback (most recent call last)",
      "\u001b[1;32m<ipython-input-41-ea49625b5d7d>\u001b[0m in \u001b[0;36m<module>\u001b[1;34m\u001b[0m\n\u001b[0;32m     19\u001b[0m     \u001b[1;32mraise\u001b[0m \u001b[0mZeroDivisionError\u001b[0m\u001b[1;33m(\u001b[0m\u001b[1;34m'Apparently, no, b is zero!'\u001b[0m\u001b[1;33m)\u001b[0m\u001b[1;33m\u001b[0m\u001b[1;33m\u001b[0m\u001b[0m\n\u001b[0;32m     20\u001b[0m \u001b[1;31m# raise exception 2\u001b[0m\u001b[1;33m\u001b[0m\u001b[1;33m\u001b[0m\u001b[1;33m\u001b[0m\u001b[0m\n\u001b[1;32m---> 21\u001b[1;33m \u001b[1;32massert\u001b[0m \u001b[0mb\u001b[0m \u001b[1;33m==\u001b[0m \u001b[1;36m0\u001b[0m\u001b[1;33m,\u001b[0m \u001b[1;34m\"Aha, I'll give you an error anyway.\"\u001b[0m\u001b[1;33m\u001b[0m\u001b[1;33m\u001b[0m\u001b[0m\n\u001b[0m",
      "\u001b[1;31mAssertionError\u001b[0m: Aha, I'll give you an error anyway."
     ],
     "output_type": "error"
    }
   ],
   "source": [
    "# Exceptions\n",
    "import numpy as np\n",
    "\n",
    "a = np.random.randint(1, 100)\n",
    "b = a % 2\n",
    "\n",
    "# handle exception\n",
    "try:\n",
    "    c = a / b\n",
    "except ZeroDivisionError as ex:\n",
    "    print(\"Error: Can't divide a number by zero\")\n",
    "else:\n",
    "    print('The value of c is {}'.format(c))\n",
    "finally:\n",
    "    print('Did you dodge the bullet?')\n",
    "\n",
    "# raise exception 1\n",
    "if b == 0:\n",
    "    raise ZeroDivisionError('Apparently, no, b is zero!')\n",
    "# raise exception 2\n",
    "assert b == 0, \"Aha, I'll give you an error anyway.\"\n"
   ]
  },
  {
   "cell_type": "code",
   "execution_count": 10,
   "metadata": {},
   "outputs": [
    {
     "name": "stdout",
     "output_type": "stream",
     "text": [
      "4\nAdd_up cannot be called twice\n"
     ]
    }
   ],
   "source": [
    "# Generator function by \"yield\" instead of \"return\"\n",
    "# not all languages have generator\n",
    "\n",
    "\n",
    "def add_up(b):\n",
    "    a = 1\n",
    "    while a + b < 6:\n",
    "        a = a + b\n",
    "        yield a\n",
    "    \n",
    "    \n",
    "x = add_up(3)\n",
    "print('{}'.format(next(x)))\n",
    "try:\n",
    "    print('{}'.format(next(x)))\n",
    "except StopIteration:\n",
    "    print('Add_up cannot be called twice')\n"
   ]
  },
  {
   "cell_type": "code",
   "execution_count": 9,
   "metadata": {},
   "outputs": [
    {
     "name": "stdout",
     "output_type": "stream",
     "text": [
      "4950\n"
     ]
    }
   ],
   "source": [
    "def first_n(n):\n",
    "    num = 0\n",
    "    while num < n:\n",
    "        yield num\n",
    "        num += 1\n",
    "        \n",
    "        \n",
    "sum_of_first_n = sum(first_n(100))\n",
    "print(sum_of_first_n)\n"
   ]
  },
  {
   "cell_type": "code",
   "execution_count": null,
   "metadata": {},
   "outputs": [],
   "source": []
  }
 ],
 "metadata": {
  "kernelspec": {
   "display_name": "Python 2",
   "language": "python",
   "name": "python2"
  },
  "language_info": {
   "codemirror_mode": {
    "name": "ipython",
    "version": 2
   },
   "file_extension": ".py",
   "mimetype": "text/x-python",
   "name": "python",
   "nbconvert_exporter": "python",
   "pygments_lexer": "ipython2",
   "version": "2.7.6"
  }
 },
 "nbformat": 4,
 "nbformat_minor": 0
}
